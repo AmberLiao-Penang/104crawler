{
 "cells": [
  {
   "cell_type": "markdown",
   "id": "48a72d1b",
   "metadata": {},
   "source": [
    "# 爬取104網頁關鍵字：AI人工智慧  "
   ]
  },
  {
   "cell_type": "code",
   "execution_count": null,
   "id": "0077247b",
   "metadata": {
    "ExecuteTime": {
     "end_time": "2021-12-05T03:32:02.923256Z",
     "start_time": "2021-12-05T03:32:02.359450Z"
    }
   },
   "outputs": [],
   "source": [
    "import requests\n",
    "from bs4 import BeautifulSoup\n",
    "import pandas as pd\n",
    "import re"
   ]
  },
  {
   "cell_type": "code",
   "execution_count": null,
   "id": "9563bded",
   "metadata": {
    "ExecuteTime": {
     "end_time": "2021-12-05T03:32:02.938428Z",
     "start_time": "2021-12-05T03:32:02.924245Z"
    }
   },
   "outputs": [],
   "source": [
    "headers = {\n",
    "    'User-Agent': 'Mozilla/5.0 (Macintosh; Intel Mac OS X 10_15_7) AppleWebKit/537.36 (KHTML, like Gecko) Chrome/95.0.4638.69 Safari/537.36'\n",
    "}"
   ]
  },
  {
   "cell_type": "code",
   "execution_count": null,
   "id": "31b8ab2c",
   "metadata": {
    "ExecuteTime": {
     "end_time": "2021-12-05T03:35:30.151567Z",
     "start_time": "2021-12-05T03:32:02.940423Z"
    },
    "scrolled": true
   },
   "outputs": [],
   "source": [
    "link = []\n",
    "page = 1\n",
    "for i in range(150):   # -->爬幾頁-->爬150頁\n",
    "    url = 'https://www.104.com.tw/jobs/search/?keyword=AI%20%E4%BA%BA%E5%B7%A5%E6%99%BA%E6%85%A7&page={}'.format(page)\n",
    "    resp = requests.get(url, headers=headers)\n",
    "    soup = BeautifulSoup(resp.text, \"html.parser\")\n",
    "    print(\"第{}頁\".format(page))\n",
    "    page += 1\n",
    "\n",
    "    result = soup.find_all(\"article\", class_=\"b-block--top-bord job-list-item b-clearfix js-job-item\")\n",
    "    # print(result)\n",
    "    for i in result:\n",
    "        result_1 = i.select_one(\"a\").get(\"href\")\n",
    "        result_1 = result_1.split(\"?\")[0]\n",
    "        link.append(\"https:\"+result_1)\n",
    "        print(\"https:\"+result_1)\n",
    "    print(\"目前累積比數：{}\".format(len(link)))\n",
    "    print(\"===========================================\")"
   ]
  },
  {
   "cell_type": "code",
   "execution_count": null,
   "id": "beec3f89",
   "metadata": {
    "ExecuteTime": {
     "end_time": "2021-12-05T03:35:30.166607Z",
     "start_time": "2021-12-05T03:35:30.153551Z"
    }
   },
   "outputs": [],
   "source": [
    "print(link)"
   ]
  },
  {
   "cell_type": "code",
   "execution_count": null,
   "id": "aac1165e",
   "metadata": {
    "ExecuteTime": {
     "end_time": "2021-12-05T03:35:30.181567Z",
     "start_time": "2021-12-05T03:35:30.167606Z"
    }
   },
   "outputs": [],
   "source": [
    "print(len(link))\n",
    "print(len(set(link)))\n",
    "link=list(set(link))\n",
    "print(len(link))"
   ]
  },
  {
   "cell_type": "code",
   "execution_count": null,
   "id": "defbfd66",
   "metadata": {
    "ExecuteTime": {
     "end_time": "2021-12-05T03:40:56.601662Z",
     "start_time": "2021-12-05T03:35:30.182565Z"
    }
   },
   "outputs": [],
   "source": [
    "df1=[]\n",
    "df2=[]\n",
    "df3=[]\n",
    "df4=[]\n",
    "df5=[]\n",
    "df6=[]\n",
    "df7=[]\n",
    "for i in range(len(link)):\n",
    "    url = link[i]\n",
    "    resp = requests.get(url, headers=headers)\n",
    "    soup = BeautifulSoup(resp.text, \"html.parser\")\n",
    "    # print(soup.prettify())\n",
    "    print(\"===========================================\")\n",
    "    # print(soup.find('meta',attrs={'name':re.compile('keywords',re.IGNORECASE)}))\n",
    "    aaa = soup.find_all(\"title\")\n",
    "    print(aaa)\n",
    "    print(\"===========================================\")\n",
    "    a = str(aaa)\n",
    "    b = \"e>\"\n",
    "    c = a.find(b)\n",
    "    d = \"104 人\"\n",
    "    e = a.find(d)\n",
    "    f = a[(c+2):(e-1)]\n",
    "    print(f)\n",
    "    print(\"===========================================\")\n",
    "    print(f.split(\"｜\")[0])\n",
    "    print(f.split(\"｜\")[1])\n",
    "    print(f.split(\"｜\")[2])\n",
    "    df1.append(f.split(\"｜\")[1])\n",
    "    df2.append(f.split(\"｜\")[2])\n",
    "    df3.append(f.split(\"｜\")[0])\n",
    "\n",
    "    print(\"===========================================\")\n",
    "    aaa = soup.find_all(\"meta\",attrs={'name':\"description\"})\n",
    "    a = str(aaa)\n",
    "    b = \"-\"\n",
    "    c = a.find(b)\n",
    "    d = \"薪資\"\n",
    "    e = a.find(d)\n",
    "    print(a[(c+2):e])\n",
    "    df4.append(a[(c+2):e])\n",
    "    df5.append(url)\n",
    "    print(\"===========================================\")\n",
    "    aaa = soup.find_all(\"meta\",attrs={'name':\"description\"})\n",
    "    #薪資\n",
    "    a = str(aaa)\n",
    "    b = \"薪資\"\n",
    "    c = a.find(b)\n",
    "    d = \"職務\"\n",
    "    e = a.find(d)\n",
    "    print(a[(c+3):e])\n",
    "    df6.append(a[(c+3):e])\n",
    "    print(\"===========================================\")\n",
    "    aaa = soup.find_all(\"meta\",attrs={'name':\"description\"})\n",
    "    #職務類別\n",
    "    a = str(aaa)\n",
    "    b = \"職務\"\n",
    "    c = a.find(b)\n",
    "    d = \"休假\"\n",
    "    e = a.find(d)\n",
    "    print(a[(c+5):e])\n",
    "    df7.append(a[(c+5):e])\n",
    "    "
   ]
  },
  {
   "cell_type": "code",
   "execution_count": null,
   "id": "32e552b9",
   "metadata": {
    "ExecuteTime": {
     "end_time": "2021-12-05T03:40:56.617715Z",
     "start_time": "2021-12-05T03:40:56.602659Z"
    },
    "scrolled": true
   },
   "outputs": [],
   "source": [
    "for i in range(len(df4)):\n",
    "    df4[i] = df4[i].replace('\\t','').replace('\\r','').replace('\\n','')\n",
    "# df4"
   ]
  },
  {
   "cell_type": "code",
   "execution_count": null,
   "id": "e2863ebb",
   "metadata": {
    "ExecuteTime": {
     "end_time": "2021-12-05T03:40:56.663079Z",
     "start_time": "2021-12-05T03:40:56.619675Z"
    },
    "scrolled": false
   },
   "outputs": [],
   "source": [
    "df = pd.DataFrame(columns=[\"公司名稱\",\"公司地區\",\"職缺名稱\",\"職務內容\",\"職務類別\",\"薪資\",\"職缺連結\"])\n",
    "df[\"公司名稱\"]=df1\n",
    "df[\"公司地區\"]=df2\n",
    "df[\"職缺名稱\"]=df3\n",
    "df[\"職務內容\"]=df4\n",
    "df[\"職務類別\"]=df7\n",
    "df[\"薪資\"]=df6\n",
    "df[\"職缺連結\"]=df5\n",
    "print(len(df))\n",
    "df"
   ]
  },
  {
   "cell_type": "code",
   "execution_count": null,
   "id": "d356d7c6",
   "metadata": {
    "ExecuteTime": {
     "end_time": "2021-12-05T03:40:56.694985Z",
     "start_time": "2021-12-05T03:40:56.665074Z"
    }
   },
   "outputs": [],
   "source": [
    "df.to_csv(\"C:/Users/TibeMe_user/Desktop/104crawler.csv\")"
   ]
  },
  {
   "cell_type": "code",
   "execution_count": null,
   "id": "1da9941d",
   "metadata": {},
   "outputs": [],
   "source": []
  },
  {
   "cell_type": "code",
   "execution_count": null,
   "id": "aa1131e6",
   "metadata": {},
   "outputs": [],
   "source": []
  },
  {
   "cell_type": "markdown",
   "id": "1801b540",
   "metadata": {},
   "source": [
    "# 整理出與AI工作高度相關資料"
   ]
  },
  {
   "cell_type": "code",
   "execution_count": null,
   "id": "1e2ec7d4",
   "metadata": {
    "ExecuteTime": {
     "end_time": "2021-12-05T06:14:39.829968Z",
     "start_time": "2021-12-05T06:14:39.789485Z"
    },
    "scrolled": true
   },
   "outputs": [],
   "source": [
    "rdf = pd.read_csv(\"C:/Users/TibeMe_user/Desktop/104crawler.csv\")\n",
    "rdf.reindex()"
   ]
  },
  {
   "cell_type": "code",
   "execution_count": null,
   "id": "053bf7d9",
   "metadata": {
    "ExecuteTime": {
     "end_time": "2021-12-05T06:16:02.547930Z",
     "start_time": "2021-12-05T06:16:02.294731Z"
    }
   },
   "outputs": [],
   "source": [
    "AI={\"公司名稱\":[],\"公司地區\":[],\"職缺名稱\":[],\"職務內容\":[],\"職務類別\":[],\"薪資\":[],\"職缺連結\":[]}\n",
    "for i in range(len(rdf)):\n",
    "    word = [\"AI\",\"人工智慧\",\"機器學習\",\"深度學習\",\"Machine Learning\"]\n",
    "    for j in word:\n",
    "        if j in rdf[\"職缺名稱\"][i]:\n",
    "            print(rdf[\"職缺名稱\"][i])\n",
    "            AI[\"公司名稱\"].append(rdf[\"公司名稱\"][i])\n",
    "            AI[\"公司地區\"].append(rdf[\"公司地區\"][i])\n",
    "            AI[\"職缺名稱\"].append(rdf[\"職缺名稱\"][i])\n",
    "            AI[\"職務內容\"].append(rdf[\"職務內容\"][i])\n",
    "            AI[\"職務類別\"].append(rdf[\"職務類別\"][i])\n",
    "            AI[\"薪資\"].append(rdf[\"薪資\"][i])\n",
    "            AI[\"職缺連結\"].append(rdf[\"職缺連結\"][i])\n",
    "            \n",
    "        if j in rdf[\"職務內容\"][i]:\n",
    "            print(rdf[\"職缺名稱\"][i])\n",
    "            AI[\"公司名稱\"].append(rdf[\"公司名稱\"][i])\n",
    "            AI[\"公司地區\"].append(rdf[\"公司地區\"][i])\n",
    "            AI[\"職缺名稱\"].append(rdf[\"職缺名稱\"][i])\n",
    "            AI[\"職務內容\"].append(rdf[\"職務內容\"][i])\n",
    "            AI[\"職務類別\"].append(rdf[\"職務類別\"][i])\n",
    "            AI[\"薪資\"].append(rdf[\"薪資\"][i])\n",
    "            AI[\"職缺連結\"].append(rdf[\"職缺連結\"][i])"
   ]
  },
  {
   "cell_type": "code",
   "execution_count": null,
   "id": "866d18b7",
   "metadata": {
    "ExecuteTime": {
     "end_time": "2021-12-05T06:16:48.312434Z",
     "start_time": "2021-12-05T06:16:48.300172Z"
    }
   },
   "outputs": [],
   "source": [
    "print(len(AI[\"職缺連結\"]))      #以網址判斷是否有重複\n",
    "print(len(set(AI[\"職缺連結\"])))"
   ]
  },
  {
   "cell_type": "code",
   "execution_count": null,
   "id": "45d21365",
   "metadata": {
    "ExecuteTime": {
     "end_time": "2021-12-05T06:16:52.402415Z",
     "start_time": "2021-12-05T06:16:52.375464Z"
    }
   },
   "outputs": [],
   "source": [
    "ai = pd.DataFrame(AI)\n",
    "ai = ai.drop_duplicates()  #刪除重複\n",
    "ai"
   ]
  },
  {
   "cell_type": "code",
   "execution_count": null,
   "id": "26ef7fca",
   "metadata": {
    "ExecuteTime": {
     "end_time": "2021-12-05T07:15:08.794744Z",
     "start_time": "2021-12-05T07:15:08.771806Z"
    }
   },
   "outputs": [],
   "source": [
    "ai.to_csv(\"C:/Users/TibeMe_user/Desktop/104crawler_HW.csv\")"
   ]
  },
  {
   "cell_type": "code",
   "execution_count": null,
   "id": "41143966",
   "metadata": {},
   "outputs": [],
   "source": []
  }
 ],
 "metadata": {
  "kernelspec": {
   "display_name": "Python 3",
   "language": "python",
   "name": "python3"
  },
  "language_info": {
   "codemirror_mode": {
    "name": "ipython",
    "version": 3
   },
   "file_extension": ".py",
   "mimetype": "text/x-python",
   "name": "python",
   "nbconvert_exporter": "python",
   "pygments_lexer": "ipython3",
   "version": "3.8.8"
  },
  "toc": {
   "base_numbering": 1,
   "nav_menu": {},
   "number_sections": true,
   "sideBar": true,
   "skip_h1_title": false,
   "title_cell": "Table of Contents",
   "title_sidebar": "Contents",
   "toc_cell": false,
   "toc_position": {},
   "toc_section_display": true,
   "toc_window_display": true
  }
 },
 "nbformat": 4,
 "nbformat_minor": 5
}
